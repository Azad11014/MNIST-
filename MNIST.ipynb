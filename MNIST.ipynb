{
  "nbformat": 4,
  "nbformat_minor": 0,
  "metadata": {
    "colab": {
      "provenance": [],
      "authorship_tag": "ABX9TyP2hIt8l4lLJ+PBl2quCwCa",
      "include_colab_link": true
    },
    "kernelspec": {
      "name": "python3",
      "display_name": "Python 3"
    },
    "language_info": {
      "name": "python"
    },
    "widgets": {
      "application/vnd.jupyter.widget-state+json": {
        "5aeb36ec7fad4946b3c8eb2b5bb28831": {
          "model_module": "@jupyter-widgets/controls",
          "model_name": "HBoxModel",
          "model_module_version": "1.5.0",
          "state": {
            "_dom_classes": [],
            "_model_module": "@jupyter-widgets/controls",
            "_model_module_version": "1.5.0",
            "_model_name": "HBoxModel",
            "_view_count": null,
            "_view_module": "@jupyter-widgets/controls",
            "_view_module_version": "1.5.0",
            "_view_name": "HBoxView",
            "box_style": "",
            "children": [
              "IPY_MODEL_e8c3859ea6bf44f99fcb5cf5590352ad",
              "IPY_MODEL_ae93022848b84d88ae7531a82d8a6a81",
              "IPY_MODEL_da34ecada7ae47ba8a11fbf20bbfdd26"
            ],
            "layout": "IPY_MODEL_32c83cd20da44a02955a459b9b67fca3"
          }
        },
        "e8c3859ea6bf44f99fcb5cf5590352ad": {
          "model_module": "@jupyter-widgets/controls",
          "model_name": "HTMLModel",
          "model_module_version": "1.5.0",
          "state": {
            "_dom_classes": [],
            "_model_module": "@jupyter-widgets/controls",
            "_model_module_version": "1.5.0",
            "_model_name": "HTMLModel",
            "_view_count": null,
            "_view_module": "@jupyter-widgets/controls",
            "_view_module_version": "1.5.0",
            "_view_name": "HTMLView",
            "description": "",
            "description_tooltip": null,
            "layout": "IPY_MODEL_be7e74b7d979451a8489cc849a690b87",
            "placeholder": "​",
            "style": "IPY_MODEL_63ade1bb96ca411bbfd50d5d1f41bdc2",
            "value": "Dl Completed...: 100%"
          }
        },
        "ae93022848b84d88ae7531a82d8a6a81": {
          "model_module": "@jupyter-widgets/controls",
          "model_name": "FloatProgressModel",
          "model_module_version": "1.5.0",
          "state": {
            "_dom_classes": [],
            "_model_module": "@jupyter-widgets/controls",
            "_model_module_version": "1.5.0",
            "_model_name": "FloatProgressModel",
            "_view_count": null,
            "_view_module": "@jupyter-widgets/controls",
            "_view_module_version": "1.5.0",
            "_view_name": "ProgressView",
            "bar_style": "success",
            "description": "",
            "description_tooltip": null,
            "layout": "IPY_MODEL_5db151a24e1b41c3834a093ec94fb738",
            "max": 5,
            "min": 0,
            "orientation": "horizontal",
            "style": "IPY_MODEL_45292ff9243144e881dacba79e068332",
            "value": 5
          }
        },
        "da34ecada7ae47ba8a11fbf20bbfdd26": {
          "model_module": "@jupyter-widgets/controls",
          "model_name": "HTMLModel",
          "model_module_version": "1.5.0",
          "state": {
            "_dom_classes": [],
            "_model_module": "@jupyter-widgets/controls",
            "_model_module_version": "1.5.0",
            "_model_name": "HTMLModel",
            "_view_count": null,
            "_view_module": "@jupyter-widgets/controls",
            "_view_module_version": "1.5.0",
            "_view_name": "HTMLView",
            "description": "",
            "description_tooltip": null,
            "layout": "IPY_MODEL_676197214da74279802ce09cf5569d37",
            "placeholder": "​",
            "style": "IPY_MODEL_e031e06da982423297e5a1c936e430ac",
            "value": " 5/5 [00:00&lt;00:00,  7.37 file/s]"
          }
        },
        "32c83cd20da44a02955a459b9b67fca3": {
          "model_module": "@jupyter-widgets/base",
          "model_name": "LayoutModel",
          "model_module_version": "1.2.0",
          "state": {
            "_model_module": "@jupyter-widgets/base",
            "_model_module_version": "1.2.0",
            "_model_name": "LayoutModel",
            "_view_count": null,
            "_view_module": "@jupyter-widgets/base",
            "_view_module_version": "1.2.0",
            "_view_name": "LayoutView",
            "align_content": null,
            "align_items": null,
            "align_self": null,
            "border": null,
            "bottom": null,
            "display": null,
            "flex": null,
            "flex_flow": null,
            "grid_area": null,
            "grid_auto_columns": null,
            "grid_auto_flow": null,
            "grid_auto_rows": null,
            "grid_column": null,
            "grid_gap": null,
            "grid_row": null,
            "grid_template_areas": null,
            "grid_template_columns": null,
            "grid_template_rows": null,
            "height": null,
            "justify_content": null,
            "justify_items": null,
            "left": null,
            "margin": null,
            "max_height": null,
            "max_width": null,
            "min_height": null,
            "min_width": null,
            "object_fit": null,
            "object_position": null,
            "order": null,
            "overflow": null,
            "overflow_x": null,
            "overflow_y": null,
            "padding": null,
            "right": null,
            "top": null,
            "visibility": null,
            "width": null
          }
        },
        "be7e74b7d979451a8489cc849a690b87": {
          "model_module": "@jupyter-widgets/base",
          "model_name": "LayoutModel",
          "model_module_version": "1.2.0",
          "state": {
            "_model_module": "@jupyter-widgets/base",
            "_model_module_version": "1.2.0",
            "_model_name": "LayoutModel",
            "_view_count": null,
            "_view_module": "@jupyter-widgets/base",
            "_view_module_version": "1.2.0",
            "_view_name": "LayoutView",
            "align_content": null,
            "align_items": null,
            "align_self": null,
            "border": null,
            "bottom": null,
            "display": null,
            "flex": null,
            "flex_flow": null,
            "grid_area": null,
            "grid_auto_columns": null,
            "grid_auto_flow": null,
            "grid_auto_rows": null,
            "grid_column": null,
            "grid_gap": null,
            "grid_row": null,
            "grid_template_areas": null,
            "grid_template_columns": null,
            "grid_template_rows": null,
            "height": null,
            "justify_content": null,
            "justify_items": null,
            "left": null,
            "margin": null,
            "max_height": null,
            "max_width": null,
            "min_height": null,
            "min_width": null,
            "object_fit": null,
            "object_position": null,
            "order": null,
            "overflow": null,
            "overflow_x": null,
            "overflow_y": null,
            "padding": null,
            "right": null,
            "top": null,
            "visibility": null,
            "width": null
          }
        },
        "63ade1bb96ca411bbfd50d5d1f41bdc2": {
          "model_module": "@jupyter-widgets/controls",
          "model_name": "DescriptionStyleModel",
          "model_module_version": "1.5.0",
          "state": {
            "_model_module": "@jupyter-widgets/controls",
            "_model_module_version": "1.5.0",
            "_model_name": "DescriptionStyleModel",
            "_view_count": null,
            "_view_module": "@jupyter-widgets/base",
            "_view_module_version": "1.2.0",
            "_view_name": "StyleView",
            "description_width": ""
          }
        },
        "5db151a24e1b41c3834a093ec94fb738": {
          "model_module": "@jupyter-widgets/base",
          "model_name": "LayoutModel",
          "model_module_version": "1.2.0",
          "state": {
            "_model_module": "@jupyter-widgets/base",
            "_model_module_version": "1.2.0",
            "_model_name": "LayoutModel",
            "_view_count": null,
            "_view_module": "@jupyter-widgets/base",
            "_view_module_version": "1.2.0",
            "_view_name": "LayoutView",
            "align_content": null,
            "align_items": null,
            "align_self": null,
            "border": null,
            "bottom": null,
            "display": null,
            "flex": null,
            "flex_flow": null,
            "grid_area": null,
            "grid_auto_columns": null,
            "grid_auto_flow": null,
            "grid_auto_rows": null,
            "grid_column": null,
            "grid_gap": null,
            "grid_row": null,
            "grid_template_areas": null,
            "grid_template_columns": null,
            "grid_template_rows": null,
            "height": null,
            "justify_content": null,
            "justify_items": null,
            "left": null,
            "margin": null,
            "max_height": null,
            "max_width": null,
            "min_height": null,
            "min_width": null,
            "object_fit": null,
            "object_position": null,
            "order": null,
            "overflow": null,
            "overflow_x": null,
            "overflow_y": null,
            "padding": null,
            "right": null,
            "top": null,
            "visibility": null,
            "width": null
          }
        },
        "45292ff9243144e881dacba79e068332": {
          "model_module": "@jupyter-widgets/controls",
          "model_name": "ProgressStyleModel",
          "model_module_version": "1.5.0",
          "state": {
            "_model_module": "@jupyter-widgets/controls",
            "_model_module_version": "1.5.0",
            "_model_name": "ProgressStyleModel",
            "_view_count": null,
            "_view_module": "@jupyter-widgets/base",
            "_view_module_version": "1.2.0",
            "_view_name": "StyleView",
            "bar_color": null,
            "description_width": ""
          }
        },
        "676197214da74279802ce09cf5569d37": {
          "model_module": "@jupyter-widgets/base",
          "model_name": "LayoutModel",
          "model_module_version": "1.2.0",
          "state": {
            "_model_module": "@jupyter-widgets/base",
            "_model_module_version": "1.2.0",
            "_model_name": "LayoutModel",
            "_view_count": null,
            "_view_module": "@jupyter-widgets/base",
            "_view_module_version": "1.2.0",
            "_view_name": "LayoutView",
            "align_content": null,
            "align_items": null,
            "align_self": null,
            "border": null,
            "bottom": null,
            "display": null,
            "flex": null,
            "flex_flow": null,
            "grid_area": null,
            "grid_auto_columns": null,
            "grid_auto_flow": null,
            "grid_auto_rows": null,
            "grid_column": null,
            "grid_gap": null,
            "grid_row": null,
            "grid_template_areas": null,
            "grid_template_columns": null,
            "grid_template_rows": null,
            "height": null,
            "justify_content": null,
            "justify_items": null,
            "left": null,
            "margin": null,
            "max_height": null,
            "max_width": null,
            "min_height": null,
            "min_width": null,
            "object_fit": null,
            "object_position": null,
            "order": null,
            "overflow": null,
            "overflow_x": null,
            "overflow_y": null,
            "padding": null,
            "right": null,
            "top": null,
            "visibility": null,
            "width": null
          }
        },
        "e031e06da982423297e5a1c936e430ac": {
          "model_module": "@jupyter-widgets/controls",
          "model_name": "DescriptionStyleModel",
          "model_module_version": "1.5.0",
          "state": {
            "_model_module": "@jupyter-widgets/controls",
            "_model_module_version": "1.5.0",
            "_model_name": "DescriptionStyleModel",
            "_view_count": null,
            "_view_module": "@jupyter-widgets/base",
            "_view_module_version": "1.2.0",
            "_view_name": "StyleView",
            "description_width": ""
          }
        }
      }
    }
  },
  "cells": [
    {
      "cell_type": "markdown",
      "metadata": {
        "id": "view-in-github",
        "colab_type": "text"
      },
      "source": [
        "<a href=\"https://colab.research.google.com/github/Azad11014/MNIST-/blob/main/MNIST.ipynb\" target=\"_parent\"><img src=\"https://colab.research.google.com/assets/colab-badge.svg\" alt=\"Open In Colab\"/></a>"
      ]
    },
    {
      "cell_type": "markdown",
      "source": [
        "#Packages"
      ],
      "metadata": {
        "id": "jSswvjEhRT-f"
      }
    },
    {
      "cell_type": "code",
      "execution_count": 1,
      "metadata": {
        "id": "WZVioD-IROC3"
      },
      "outputs": [],
      "source": [
        "import numpy as np\n",
        "import tensorflow as tf\n",
        "import tensorflow_datasets as tfds"
      ]
    },
    {
      "cell_type": "markdown",
      "source": [
        "#Data"
      ],
      "metadata": {
        "id": "Ts3yMCljSA8t"
      }
    },
    {
      "cell_type": "code",
      "source": [
        "mnist_dataset, mnist_info = tfds.load(name = 'mnist', with_info = True, as_supervised = True)"
      ],
      "metadata": {
        "colab": {
          "base_uri": "https://localhost:8080/",
          "height": 104,
          "referenced_widgets": [
            "5aeb36ec7fad4946b3c8eb2b5bb28831",
            "e8c3859ea6bf44f99fcb5cf5590352ad",
            "ae93022848b84d88ae7531a82d8a6a81",
            "da34ecada7ae47ba8a11fbf20bbfdd26",
            "32c83cd20da44a02955a459b9b67fca3",
            "be7e74b7d979451a8489cc849a690b87",
            "63ade1bb96ca411bbfd50d5d1f41bdc2",
            "5db151a24e1b41c3834a093ec94fb738",
            "45292ff9243144e881dacba79e068332",
            "676197214da74279802ce09cf5569d37",
            "e031e06da982423297e5a1c936e430ac"
          ]
        },
        "id": "3RdJ6HiOR-6Z",
        "outputId": "5dd17700-7ced-4544-8091-ea95ccde885e"
      },
      "execution_count": 2,
      "outputs": [
        {
          "output_type": "stream",
          "name": "stdout",
          "text": [
            "Downloading and preparing dataset 11.06 MiB (download: 11.06 MiB, generated: 21.00 MiB, total: 32.06 MiB) to /root/tensorflow_datasets/mnist/3.0.1...\n"
          ]
        },
        {
          "output_type": "display_data",
          "data": {
            "text/plain": [
              "Dl Completed...:   0%|          | 0/5 [00:00<?, ? file/s]"
            ],
            "application/vnd.jupyter.widget-view+json": {
              "version_major": 2,
              "version_minor": 0,
              "model_id": "5aeb36ec7fad4946b3c8eb2b5bb28831"
            }
          },
          "metadata": {}
        },
        {
          "output_type": "stream",
          "name": "stdout",
          "text": [
            "Dataset mnist downloaded and prepared to /root/tensorflow_datasets/mnist/3.0.1. Subsequent calls will reuse this data.\n"
          ]
        }
      ]
    },
    {
      "cell_type": "markdown",
      "source": [
        "#Preprocessing"
      ],
      "metadata": {
        "id": "XdXOtSmqUbhO"
      }
    },
    {
      "cell_type": "code",
      "source": [
        "mnist_train, mnist_test = mnist_dataset['train'], mnist_dataset['test']\n",
        "num_validation_sample = 0.1 * mnist_info.splits['train'].num_examples\n",
        "num_validation_sample = tf.cast(num_validation_sample, tf.int64)\n",
        "\n",
        "num_test_sample = mnist_info.splits['test'].num_examples\n",
        "\n",
        "def scale(image, label):\n",
        "  image = tf.cast(image, tf.float32)\n",
        "  image /= 255\n",
        "  return image, label\n",
        "\n",
        "scaled_train_and_validation_data = mnist_train.map(scale)\n",
        "test_data = mnist_test.map(scale)\n",
        "\n",
        "#Shuffling and Batching\n",
        "BUFFER_SIZE = 10000\n",
        "shuffled_train_and_validation_data = scaled_train_and_validation_data.shuffle(BUFFER_SIZE)\n",
        "validation_data = shuffled_train_and_validation_data.take(num_validation_sample)\n",
        "train_data = shuffled_train_and_validation_data.skip(num_validation_sample)\n",
        "\n",
        "#Mini batch GD\n",
        "BATCH_SIZE = 100\n",
        "train_data = train_data.batch(BATCH_SIZE)\n",
        "validation_data = validation_data.batch(num_validation_sample)\n",
        "test_data = test_data.batch(num_test_sample)\n",
        "validation_input, validation_target = next(iter(validation_data))"
      ],
      "metadata": {
        "id": "DG_AviyrULf_"
      },
      "execution_count": 3,
      "outputs": []
    },
    {
      "cell_type": "markdown",
      "source": [
        "#Outline the model"
      ],
      "metadata": {
        "id": "H7VxXiopUI7y"
      }
    },
    {
      "cell_type": "code",
      "source": [
        "input_size = 784\n",
        "output_size = 10\n",
        "hidden_layer_size = 50\n",
        "\n",
        "model = tf.keras.Sequential([\n",
        "    tf.keras.layers.Flatten(input_shape = (28,28,1)),\n",
        "    tf.keras.layers.Dense(hidden_layer_size, activation = 'relu'),\n",
        "    tf.keras.layers.Dense(hidden_layer_size, activation = 'relu'),\n",
        "    tf.keras.layers.Dense(output_size, activation = 'softmax')\n",
        "])"
      ],
      "metadata": {
        "id": "t4PNdWHgYYOP"
      },
      "execution_count": 4,
      "outputs": []
    },
    {
      "cell_type": "markdown",
      "source": [
        "#Optimizer and loss function"
      ],
      "metadata": {
        "id": "J5gneDXJ_qil"
      }
    },
    {
      "cell_type": "code",
      "source": [
        "model.compile(optimizer = 'adam', loss = 'sparse_categorical_crossentropy', metrics = ['accuracy'])"
      ],
      "metadata": {
        "id": "XdcDh0AT_uek"
      },
      "execution_count": 5,
      "outputs": []
    },
    {
      "cell_type": "markdown",
      "source": [
        "#Training"
      ],
      "metadata": {
        "id": "FRSkgnWrHyfk"
      }
    },
    {
      "cell_type": "code",
      "source": [
        "NUM_EPOCH = 10\n",
        "model.fit(train_data, epochs = NUM_EPOCH, validation_data = (validation_input, validation_target))"
      ],
      "metadata": {
        "colab": {
          "base_uri": "https://localhost:8080/"
        },
        "id": "bt2Ts3c_H1Ui",
        "outputId": "22cefc4c-46b8-435a-ed79-0e2a1cb1c250"
      },
      "execution_count": 6,
      "outputs": [
        {
          "output_type": "stream",
          "name": "stdout",
          "text": [
            "Epoch 1/10\n",
            "540/540 [==============================] - 9s 11ms/step - loss: 0.4073 - accuracy: 0.8841 - val_loss: 0.2152 - val_accuracy: 0.9360\n",
            "Epoch 2/10\n",
            "540/540 [==============================] - 5s 8ms/step - loss: 0.1820 - accuracy: 0.9473 - val_loss: 0.1539 - val_accuracy: 0.9537\n",
            "Epoch 3/10\n",
            "540/540 [==============================] - 4s 6ms/step - loss: 0.1401 - accuracy: 0.9591 - val_loss: 0.1193 - val_accuracy: 0.9660\n",
            "Epoch 4/10\n",
            "540/540 [==============================] - 4s 6ms/step - loss: 0.1161 - accuracy: 0.9655 - val_loss: 0.1037 - val_accuracy: 0.9723\n",
            "Epoch 5/10\n",
            "540/540 [==============================] - 5s 9ms/step - loss: 0.0952 - accuracy: 0.9720 - val_loss: 0.0873 - val_accuracy: 0.9743\n",
            "Epoch 6/10\n",
            "540/540 [==============================] - 4s 6ms/step - loss: 0.0823 - accuracy: 0.9749 - val_loss: 0.0869 - val_accuracy: 0.9753\n",
            "Epoch 7/10\n",
            "540/540 [==============================] - 4s 6ms/step - loss: 0.0718 - accuracy: 0.9786 - val_loss: 0.0733 - val_accuracy: 0.9790\n",
            "Epoch 8/10\n",
            "540/540 [==============================] - 5s 8ms/step - loss: 0.0626 - accuracy: 0.9811 - val_loss: 0.0689 - val_accuracy: 0.9807\n",
            "Epoch 9/10\n",
            "540/540 [==============================] - 4s 6ms/step - loss: 0.0573 - accuracy: 0.9826 - val_loss: 0.0624 - val_accuracy: 0.9830\n",
            "Epoch 10/10\n",
            "540/540 [==============================] - 5s 8ms/step - loss: 0.0506 - accuracy: 0.9850 - val_loss: 0.0574 - val_accuracy: 0.9843\n"
          ]
        },
        {
          "output_type": "execute_result",
          "data": {
            "text/plain": [
              "<keras.src.callbacks.History at 0x7b6ffd2c3b50>"
            ]
          },
          "metadata": {},
          "execution_count": 6
        }
      ]
    },
    {
      "cell_type": "markdown",
      "source": [
        "#Testing"
      ],
      "metadata": {
        "id": "mCZyg5RHImCi"
      }
    },
    {
      "cell_type": "code",
      "source": [
        "test_loss, test_accuracy = model.evaluate(test_data)"
      ],
      "metadata": {
        "colab": {
          "base_uri": "https://localhost:8080/"
        },
        "id": "2OOgk84jIoAU",
        "outputId": "3c4ad4f3-a9df-4f31-bcd2-570bf525c120"
      },
      "execution_count": 7,
      "outputs": [
        {
          "output_type": "stream",
          "name": "stdout",
          "text": [
            "1/1 [==============================] - 1s 1s/step - loss: 0.0884 - accuracy: 0.9730\n"
          ]
        }
      ]
    },
    {
      "cell_type": "code",
      "source": [
        "print(f'Test Loss: {test_loss:.2f}. Test Accuracy: {test_accuracy * 100:.2f}%')"
      ],
      "metadata": {
        "colab": {
          "base_uri": "https://localhost:8080/"
        },
        "id": "7p02OoJUL9gI",
        "outputId": "2ab6c952-ec9f-4591-cd4f-4f7dada2fc8f"
      },
      "execution_count": 8,
      "outputs": [
        {
          "output_type": "stream",
          "name": "stdout",
          "text": [
            "Test Loss: 0.09. Test Accuracy: 97.30%\n"
          ]
        }
      ]
    },
    {
      "cell_type": "markdown",
      "source": [
        "#Saving the model"
      ],
      "metadata": {
        "id": "SCX8on0orF5f"
      }
    },
    {
      "cell_type": "code",
      "source": [
        "model.save('MNIST.h5')"
      ],
      "metadata": {
        "colab": {
          "base_uri": "https://localhost:8080/"
        },
        "id": "DA4-g2Q-rJJO",
        "outputId": "b0a3643a-2587-4233-9696-2db8ec61266d"
      },
      "execution_count": 22,
      "outputs": [
        {
          "output_type": "stream",
          "name": "stderr",
          "text": [
            "/usr/local/lib/python3.10/dist-packages/keras/src/engine/training.py:3103: UserWarning: You are saving your model as an HDF5 file via `model.save()`. This file format is considered legacy. We recommend using instead the native Keras format, e.g. `model.save('my_model.keras')`.\n",
            "  saving_api.save_model(\n"
          ]
        }
      ]
    },
    {
      "cell_type": "markdown",
      "source": [
        "#Testing with actual data"
      ],
      "metadata": {
        "id": "Of-5tl2sb_G9"
      }
    },
    {
      "cell_type": "code",
      "source": [
        "import numpy as np\n",
        "from PIL import Image\n",
        "import tensorflow as tf\n",
        "\n",
        "def preprocess_image(image_path):\n",
        "    # Load the image\n",
        "    img = Image.open(image_path)\n",
        "    img.show()\n",
        "    # Convert to grayscale\n",
        "    img = img.convert('L')\n",
        "\n",
        "    # Resize to 28x28 pixels (the size of MNIST images)\n",
        "    img = img.resize((28, 28))\n",
        "\n",
        "    # Convert the image to a numpy array\n",
        "    img_array = np.array(img)\n",
        "\n",
        "    # Normalize the pixel values to be between 0 and 1\n",
        "    img_array = img_array / 255.0\n",
        "\n",
        "    # Invert the image colors (MNIST has white digits on black background)\n",
        "    img_array = 1 - img_array\n",
        "\n",
        "    # Reshape the image to match the input shape expected by the model\n",
        "    img_array = img_array.reshape(1, 28, 28, 1)\n",
        "\n",
        "\n",
        "    return img_array\n",
        "\n",
        "image_path = '/two.jpeg'  # Replace with your image path\n",
        "processed_image = preprocess_image(image_path)\n",
        "model = tf.keras.models.load_model('MNIST.h5')  # Replace with your model path\n",
        "\n",
        "prediction = model.predict(processed_image)\n",
        "predicted_digit = np.argmax(prediction)\n",
        "\n",
        "print(f'The predicted digit is: {predicted_digit}')"
      ],
      "metadata": {
        "colab": {
          "base_uri": "https://localhost:8080/"
        },
        "id": "GLxsAlOIkQRZ",
        "outputId": "7b4ac175-baa4-4dac-836d-a0daf50fb8de"
      },
      "execution_count": 25,
      "outputs": [
        {
          "output_type": "stream",
          "name": "stdout",
          "text": [
            "1/1 [==============================] - 0s 60ms/step\n",
            "The predicted digit is: 2\n"
          ]
        }
      ]
    },
    {
      "cell_type": "markdown",
      "source": [
        "#Saving the model in drive"
      ],
      "metadata": {
        "id": "pGjaS6ZFtGSU"
      }
    },
    {
      "cell_type": "code",
      "source": [
        "from google.colab import drive\n",
        "import tensorflow as tf\n",
        "\n",
        "# Mount Google Drive\n",
        "drive.mount('/content/drive')\n",
        "\n",
        "# Assume your model is already trained and stored in a variable called 'model'\n",
        "\n",
        "# Save the model to Google Drive\n",
        "model.save('/content/drive/My Drive/MNIST_AZAD.h5')\n",
        "\n",
        "# Specify the path\n",
        "saved_model_path = '/content/drive/My Drive/MNIST_AZAD.h5'\n",
        "\n",
        "print(\"Model saved at:\", saved_model_path)\n"
      ],
      "metadata": {
        "colab": {
          "base_uri": "https://localhost:8080/"
        },
        "id": "Zxn1M2LFtISY",
        "outputId": "61cf386c-b044-4aee-a5ea-4ac50b9236f0"
      },
      "execution_count": 24,
      "outputs": [
        {
          "output_type": "stream",
          "name": "stdout",
          "text": [
            "Mounted at /content/drive\n",
            "Model saved at: /content/drive/My Drive/MNIST_AZAD.h5\n"
          ]
        },
        {
          "output_type": "stream",
          "name": "stderr",
          "text": [
            "/usr/local/lib/python3.10/dist-packages/keras/src/engine/training.py:3103: UserWarning: You are saving your model as an HDF5 file via `model.save()`. This file format is considered legacy. We recommend using instead the native Keras format, e.g. `model.save('my_model.keras')`.\n",
            "  saving_api.save_model(\n"
          ]
        }
      ]
    }
  ]
}